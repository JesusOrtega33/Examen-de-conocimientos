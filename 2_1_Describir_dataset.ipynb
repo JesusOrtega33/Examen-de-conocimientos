{
 "cells": [
  {
   "cell_type": "code",
   "execution_count": 1,
   "id": "b0082321-e83f-4dec-ba5c-0b36d7eac038",
   "metadata": {},
   "outputs": [
    {
     "name": "stdout",
     "output_type": "stream",
     "text": [
      "=== Tipos de datos ===\n",
      "checking_account    object\n",
      "duration             int64\n",
      "credit_history      object\n",
      "purpose             object\n",
      "credit_amount        int64\n",
      "savings             object\n",
      "employment          object\n",
      "installment_rate     int64\n",
      "personal_status     object\n",
      "debtors             object\n",
      "residence            int64\n",
      "property            object\n",
      "age                  int64\n",
      "other_plans         object\n",
      "housing             object\n",
      "existing_credits     int64\n",
      "job                 object\n",
      "dependents           int64\n",
      "telephone           object\n",
      "foreign_worker      object\n",
      "target               int64\n",
      "dtype: object\n",
      "\n",
      "=== Resumen numérico ===\n",
      "          duration  credit_amount  installment_rate    residence          age  \\\n",
      "count  1000.000000    1000.000000       1000.000000  1000.000000  1000.000000   \n",
      "mean     20.903000    3271.258000          2.973000     2.845000    35.546000   \n",
      "std      12.058814    2822.736876          1.118715     1.103718    11.375469   \n",
      "min       4.000000     250.000000          1.000000     1.000000    19.000000   \n",
      "25%      12.000000    1365.500000          2.000000     2.000000    27.000000   \n",
      "50%      18.000000    2319.500000          3.000000     3.000000    33.000000   \n",
      "75%      24.000000    3972.250000          4.000000     4.000000    42.000000   \n",
      "max      72.000000   18424.000000          4.000000     4.000000    75.000000   \n",
      "\n",
      "       existing_credits   dependents       target  \n",
      "count       1000.000000  1000.000000  1000.000000  \n",
      "mean           1.407000     1.155000     1.300000  \n",
      "std            0.577654     0.362086     0.458487  \n",
      "min            1.000000     1.000000     1.000000  \n",
      "25%            1.000000     1.000000     1.000000  \n",
      "50%            1.000000     1.000000     1.000000  \n",
      "75%            2.000000     1.000000     2.000000  \n",
      "max            4.000000     2.000000     2.000000  \n",
      "\n",
      "=== Categorías únicas ===\n",
      "checking_account: 4 categorías\n",
      "credit_history: 5 categorías\n",
      "purpose: 10 categorías\n",
      "savings: 5 categorías\n",
      "employment: 5 categorías\n",
      "personal_status: 4 categorías\n",
      "debtors: 3 categorías\n",
      "property: 4 categorías\n",
      "other_plans: 3 categorías\n",
      "housing: 3 categorías\n",
      "job: 4 categorías\n",
      "telephone: 2 categorías\n",
      "foreign_worker: 2 categorías\n"
     ]
    }
   ],
   "source": [
    "import pandas as pd\n",
    "\n",
    "# Cargar datos\n",
    "url = \"https://archive.ics.uci.edu/ml/machine-learning-databases/statlog/german/german.data\"\n",
    "column_names = [\n",
    "    \"checking_account\", \"duration\", \"credit_history\", \"purpose\", \"credit_amount\",\n",
    "    \"savings\", \"employment\", \"installment_rate\", \"personal_status\", \"debtors\",\n",
    "    \"residence\", \"property\", \"age\", \"other_plans\", \"housing\", \"existing_credits\",\n",
    "    \"job\", \"dependents\", \"telephone\", \"foreign_worker\", \"target\"\n",
    "]\n",
    "df = pd.read_csv(url, sep=\" \", header=None, names=column_names)\n",
    "\n",
    "# 1. Tipos de datos\n",
    "print(\"=== Tipos de datos ===\")\n",
    "print(df.dtypes)\n",
    "\n",
    "# 2. Resumen estadístico\n",
    "print(\"\\n=== Resumen numérico ===\")\n",
    "print(df.describe())\n",
    "\n",
    "# 3. Categóricas\n",
    "print(\"\\n=== Categorías únicas ===\")\n",
    "for col in df.select_dtypes(include=\"object\"):\n",
    "    print(f\"{col}: {df[col].nunique()} categorías\")  # Número de valores únicos"
   ]
  },
  {
   "cell_type": "code",
   "execution_count": 4,
   "id": "0e43a35d-5dcc-4c96-982f-18b5647c8fd5",
   "metadata": {},
   "outputs": [
    {
     "name": "stderr",
     "output_type": "stream",
     "text": [
      "<>:3: SyntaxWarning: invalid escape sequence '\\s'\n",
      "<>:3: SyntaxWarning: invalid escape sequence '\\s'\n",
      "/tmp/ipykernel_77887/4286704737.py:3: SyntaxWarning: invalid escape sequence '\\s'\n",
      "  df_numeric = pd.read_csv(url_numeric, sep=\"\\s+\", header=None)\n"
     ]
    },
    {
     "name": "stdout",
     "output_type": "stream",
     "text": [
      "   0   1   2   3   4   5   6   7   8   9   ...  15  16  17  18  19  20  21  \\\n",
      "0   1   6   4  12   5   5   3   4   1  67  ...   0   0   1   0   0   1   0   \n",
      "1   2  48   2  60   1   3   2   2   1  22  ...   0   0   1   0   0   1   0   \n",
      "2   4  12   4  21   1   4   3   3   1  49  ...   0   0   1   0   0   1   0   \n",
      "3   1  42   2  79   1   4   3   4   2  45  ...   0   0   0   0   0   0   0   \n",
      "4   1  24   3  49   1   3   3   4   4  53  ...   1   0   1   0   0   0   0   \n",
      "\n",
      "   22  23  24  \n",
      "0   0   1   1  \n",
      "1   0   1   2  \n",
      "2   1   0   1  \n",
      "3   0   1   1  \n",
      "4   0   1   2  \n",
      "\n",
      "[5 rows x 25 columns]\n"
     ]
    }
   ],
   "source": [
    "import pandas as pd\n",
    "url_numeric = \"https://archive.ics.uci.edu/ml/machine-learning-databases/statlog/german/german.data-numeric\"\n",
    "df_numeric = pd.read_csv(url_numeric, sep=\"\\s+\", header=None)\n",
    "print(df_numeric.head())  # Ver estructura"
   ]
  },
  {
   "cell_type": "code",
   "execution_count": null,
   "id": "0ef560db-d64a-42ed-974d-824af3a8abf4",
   "metadata": {},
   "outputs": [],
   "source": []
  }
 ],
 "metadata": {
  "kernelspec": {
   "display_name": "Python 3 (ipykernel)",
   "language": "python",
   "name": "python3"
  },
  "language_info": {
   "codemirror_mode": {
    "name": "ipython",
    "version": 3
   },
   "file_extension": ".py",
   "mimetype": "text/x-python",
   "name": "python",
   "nbconvert_exporter": "python",
   "pygments_lexer": "ipython3",
   "version": "3.12.7"
  }
 },
 "nbformat": 4,
 "nbformat_minor": 5
}
